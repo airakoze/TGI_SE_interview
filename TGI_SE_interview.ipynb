{
  "cells": [
    {
      "attachments": {},
      "cell_type": "markdown",
      "metadata": {
        "id": "RJLenVzkEXG9"
      },
      "source": [
        "# Software Engineer Technical Interview"
      ]
    },
    {
      "attachments": {},
      "cell_type": "markdown",
      "metadata": {
        "id": "Z5RsllKcEc70"
      },
      "source": [
        "## This interview process aims to assess a software engineer's skills in dealing with geospatial application problems. The candidate must provide the answers and code using an own public GitHub repository and a running Google Colab notebook."
      ]
    },
    {
      "attachments": {},
      "cell_type": "markdown",
      "metadata": {
        "id": "-tyVUNPFExv4"
      },
      "source": [
        "##Task #1\n",
        "\n",
        "Consider the following dataset to work with: https://www.kaggle.com/datasets/aman2000jaiswal/agriculture-crop-images. Provide a code for the items a-d bellow:"
      ]
    },
    {
      "attachments": {},
      "cell_type": "markdown",
      "metadata": {
        "id": "98Dttj5SFVNA"
      },
      "source": [
        "a. Create a model to classify with reasonable accuracy the images from the dataset base.\n",
        "\n",
        "b. Save, in a non-relational database (e.g., MongoDB), the accuracy result for the training process.\n",
        "\n",
        "c. Create a Python-based API (e.g., based on Flask, Streamlit) to receive an image from the user as input. After receiving the image, the API should call the trained model and return a response (including a JSON data) with accuracy metrics and classification (i.e., maize, wheat, jute, rice and sugarcane) according to the image provided.\n",
        "\n",
        "d. Elaborate test cases for this implementation."
      ]
    },
    {
      "attachments": {},
      "cell_type": "markdown",
      "metadata": {
        "id": "3S4-tobT_eOm"
      },
      "source": [
        "### a. Creating a model to classify images from the kaggle's agriculture crop images dataset"
      ]
    },
    {
      "attachments": {},
      "cell_type": "markdown",
      "metadata": {
        "id": "1W3h4zc0_hye"
      },
      "source": [
        "##### Setting up the environment for kaggle"
      ]
    },
    {
      "cell_type": "code",
      "execution_count": null,
      "metadata": {
        "colab": {
          "base_uri": "https://localhost:8080/",
          "height": 84
        },
        "id": "vXcLeJDm_g5-",
        "outputId": "9451c662-9ab3-4900-a737-cd62e5c846d2"
      },
      "outputs": [],
      "source": [
        "from google.colab import files\n",
        "\n",
        "# To upload kaggle.json API token file\n",
        "files.upload() "
      ]
    },
    {
      "cell_type": "code",
      "execution_count": null,
      "metadata": {
        "id": "TigrbHNT_l9q"
      },
      "outputs": [],
      "source": [
        "!mkdir -p ~/.kaggle\n",
        "!cp kaggle.json ~/.kaggle/\n",
        "!chmod 600 ~/.kaggle/kaggle.json"
      ]
    },
    {
      "attachments": {},
      "cell_type": "markdown",
      "metadata": {
        "id": "mbOesfAh_pPS"
      },
      "source": [
        "##### Downloading the agricultural crop images dataset from kaggle"
      ]
    },
    {
      "cell_type": "code",
      "execution_count": null,
      "metadata": {
        "id": "Q3c5wbY5_nVq"
      },
      "outputs": [],
      "source": [
        "import kaggle\n",
        "kaggle.api.dataset_download_files('aman2000jaiswal/agriculture-crop-images', path='./', unzip=True)"
      ]
    },
    {
      "attachments": {},
      "cell_type": "markdown",
      "metadata": {
        "id": "k6x32ovG_rfT"
      },
      "source": [
        "##### Preprocessing data"
      ]
    },
    {
      "cell_type": "code",
      "execution_count": null,
      "metadata": {
        "id": "NjcJjrGU_tm-"
      },
      "outputs": [],
      "source": [
        "import pandas as pd\n",
        "\n",
        "# Reading the dataset\n",
        "data = pd.read_csv('./Crop_details.csv')"
      ]
    },
    {
      "cell_type": "code",
      "execution_count": null,
      "metadata": {
        "colab": {
          "base_uri": "https://localhost:8080/",
          "height": 201
        },
        "id": "nwoAYSuq_vKL",
        "outputId": "2b7123ee-68bf-4358-8370-48729bb89f02"
      },
      "outputs": [
        {
          "data": {
            "text/html": [
              "\n",
              "  <div id=\"df-4a4e9e0c-bf84-4bbe-8d77-ea48aa24817f\">\n",
              "    <div class=\"colab-df-container\">\n",
              "      <div>\n",
              "<style scoped>\n",
              "    .dataframe tbody tr th:only-of-type {\n",
              "        vertical-align: middle;\n",
              "    }\n",
              "\n",
              "    .dataframe tbody tr th {\n",
              "        vertical-align: top;\n",
              "    }\n",
              "\n",
              "    .dataframe thead th {\n",
              "        text-align: right;\n",
              "    }\n",
              "</style>\n",
              "<table border=\"1\" class=\"dataframe\">\n",
              "  <thead>\n",
              "    <tr style=\"text-align: right;\">\n",
              "      <th></th>\n",
              "      <th>Unnamed: 0</th>\n",
              "      <th>path</th>\n",
              "      <th>crop</th>\n",
              "      <th>croplabel</th>\n",
              "    </tr>\n",
              "  </thead>\n",
              "  <tbody>\n",
              "    <tr>\n",
              "      <th>0</th>\n",
              "      <td>0</td>\n",
              "      <td>/kaggle/input/kag2/sugarcane/sugarcane037ahs.jpeg</td>\n",
              "      <td>sugarcane</td>\n",
              "      <td>3</td>\n",
              "    </tr>\n",
              "    <tr>\n",
              "      <th>1</th>\n",
              "      <td>1</td>\n",
              "      <td>/kaggle/input/kag2/sugarcane/sugarcane034a.jpeg</td>\n",
              "      <td>sugarcane</td>\n",
              "      <td>3</td>\n",
              "    </tr>\n",
              "    <tr>\n",
              "      <th>2</th>\n",
              "      <td>2</td>\n",
              "      <td>/kaggle/input/kag2/sugarcane/sugarcane032arot....</td>\n",
              "      <td>sugarcane</td>\n",
              "      <td>3</td>\n",
              "    </tr>\n",
              "    <tr>\n",
              "      <th>3</th>\n",
              "      <td>3</td>\n",
              "      <td>/kaggle/input/kag2/sugarcane/sugarcane036ahs.jpeg</td>\n",
              "      <td>sugarcane</td>\n",
              "      <td>3</td>\n",
              "    </tr>\n",
              "    <tr>\n",
              "      <th>4</th>\n",
              "      <td>4</td>\n",
              "      <td>/kaggle/input/kag2/sugarcane/sugarcane023ahs.jpeg</td>\n",
              "      <td>sugarcane</td>\n",
              "      <td>3</td>\n",
              "    </tr>\n",
              "  </tbody>\n",
              "</table>\n",
              "</div>\n",
              "      <button class=\"colab-df-convert\" onclick=\"convertToInteractive('df-4a4e9e0c-bf84-4bbe-8d77-ea48aa24817f')\"\n",
              "              title=\"Convert this dataframe to an interactive table.\"\n",
              "              style=\"display:none;\">\n",
              "        \n",
              "  <svg xmlns=\"http://www.w3.org/2000/svg\" height=\"24px\"viewBox=\"0 0 24 24\"\n",
              "       width=\"24px\">\n",
              "    <path d=\"M0 0h24v24H0V0z\" fill=\"none\"/>\n",
              "    <path d=\"M18.56 5.44l.94 2.06.94-2.06 2.06-.94-2.06-.94-.94-2.06-.94 2.06-2.06.94zm-11 1L8.5 8.5l.94-2.06 2.06-.94-2.06-.94L8.5 2.5l-.94 2.06-2.06.94zm10 10l.94 2.06.94-2.06 2.06-.94-2.06-.94-.94-2.06-.94 2.06-2.06.94z\"/><path d=\"M17.41 7.96l-1.37-1.37c-.4-.4-.92-.59-1.43-.59-.52 0-1.04.2-1.43.59L10.3 9.45l-7.72 7.72c-.78.78-.78 2.05 0 2.83L4 21.41c.39.39.9.59 1.41.59.51 0 1.02-.2 1.41-.59l7.78-7.78 2.81-2.81c.8-.78.8-2.07 0-2.86zM5.41 20L4 18.59l7.72-7.72 1.47 1.35L5.41 20z\"/>\n",
              "  </svg>\n",
              "      </button>\n",
              "      \n",
              "  <style>\n",
              "    .colab-df-container {\n",
              "      display:flex;\n",
              "      flex-wrap:wrap;\n",
              "      gap: 12px;\n",
              "    }\n",
              "\n",
              "    .colab-df-convert {\n",
              "      background-color: #E8F0FE;\n",
              "      border: none;\n",
              "      border-radius: 50%;\n",
              "      cursor: pointer;\n",
              "      display: none;\n",
              "      fill: #1967D2;\n",
              "      height: 32px;\n",
              "      padding: 0 0 0 0;\n",
              "      width: 32px;\n",
              "    }\n",
              "\n",
              "    .colab-df-convert:hover {\n",
              "      background-color: #E2EBFA;\n",
              "      box-shadow: 0px 1px 2px rgba(60, 64, 67, 0.3), 0px 1px 3px 1px rgba(60, 64, 67, 0.15);\n",
              "      fill: #174EA6;\n",
              "    }\n",
              "\n",
              "    [theme=dark] .colab-df-convert {\n",
              "      background-color: #3B4455;\n",
              "      fill: #D2E3FC;\n",
              "    }\n",
              "\n",
              "    [theme=dark] .colab-df-convert:hover {\n",
              "      background-color: #434B5C;\n",
              "      box-shadow: 0px 1px 3px 1px rgba(0, 0, 0, 0.15);\n",
              "      filter: drop-shadow(0px 1px 2px rgba(0, 0, 0, 0.3));\n",
              "      fill: #FFFFFF;\n",
              "    }\n",
              "  </style>\n",
              "\n",
              "      <script>\n",
              "        const buttonEl =\n",
              "          document.querySelector('#df-4a4e9e0c-bf84-4bbe-8d77-ea48aa24817f button.colab-df-convert');\n",
              "        buttonEl.style.display =\n",
              "          google.colab.kernel.accessAllowed ? 'block' : 'none';\n",
              "\n",
              "        async function convertToInteractive(key) {\n",
              "          const element = document.querySelector('#df-4a4e9e0c-bf84-4bbe-8d77-ea48aa24817f');\n",
              "          const dataTable =\n",
              "            await google.colab.kernel.invokeFunction('convertToInteractive',\n",
              "                                                     [key], {});\n",
              "          if (!dataTable) return;\n",
              "\n",
              "          const docLinkHtml = 'Like what you see? Visit the ' +\n",
              "            '<a target=\"_blank\" href=https://colab.research.google.com/notebooks/data_table.ipynb>data table notebook</a>'\n",
              "            + ' to learn more about interactive tables.';\n",
              "          element.innerHTML = '';\n",
              "          dataTable['output_type'] = 'display_data';\n",
              "          await google.colab.output.renderOutput(dataTable, element);\n",
              "          const docLink = document.createElement('div');\n",
              "          docLink.innerHTML = docLinkHtml;\n",
              "          element.appendChild(docLink);\n",
              "        }\n",
              "      </script>\n",
              "    </div>\n",
              "  </div>\n",
              "  "
            ],
            "text/plain": [
              "   Unnamed: 0                                               path       crop  \\\n",
              "0           0  /kaggle/input/kag2/sugarcane/sugarcane037ahs.jpeg  sugarcane   \n",
              "1           1    /kaggle/input/kag2/sugarcane/sugarcane034a.jpeg  sugarcane   \n",
              "2           2  /kaggle/input/kag2/sugarcane/sugarcane032arot....  sugarcane   \n",
              "3           3  /kaggle/input/kag2/sugarcane/sugarcane036ahs.jpeg  sugarcane   \n",
              "4           4  /kaggle/input/kag2/sugarcane/sugarcane023ahs.jpeg  sugarcane   \n",
              "\n",
              "   croplabel  \n",
              "0          3  \n",
              "1          3  \n",
              "2          3  \n",
              "3          3  \n",
              "4          3  "
            ]
          },
          "execution_count": 5,
          "metadata": {},
          "output_type": "execute_result"
        }
      ],
      "source": [
        "data.head()"
      ]
    },
    {
      "cell_type": "code",
      "execution_count": null,
      "metadata": {
        "id": "dtWZJ8Kb_xMa"
      },
      "outputs": [],
      "source": [
        "# Data cleaning\n",
        "data.drop('Unnamed: 0', axis=1)\n",
        "\n",
        "# Converting croplabel to string\n",
        "data['croplabel'] = data['croplabel'].astype(str)\n",
        "\n",
        "# Reformatting image paths\n",
        "data['path'] = data['path'].str.replace('/kaggle/input/', './')"
      ]
    },
    {
      "attachments": {},
      "cell_type": "markdown",
      "metadata": {
        "id": "I_nlyIg__1R2"
      },
      "source": [
        "##### Training the model"
      ]
    },
    {
      "cell_type": "code",
      "execution_count": null,
      "metadata": {
        "colab": {
          "base_uri": "https://localhost:8080/"
        },
        "id": "HbSIthcy_298",
        "outputId": "76a1a967-94f6-4159-e63c-3969524f03d9"
      },
      "outputs": [
        {
          "name": "stdout",
          "output_type": "stream",
          "text": [
            "Found 679 validated image filenames belonging to 5 classes.\n",
            "Found 170 validated image filenames belonging to 5 classes.\n",
            "Found 150 validated image filenames belonging to 5 classes.\n"
          ]
        }
      ],
      "source": [
        "from sklearn.model_selection import train_test_split\n",
        "from tensorflow.keras.preprocessing.image import ImageDataGenerator\n",
        "\n",
        "# Splitting the dataset into train and test sets (85% train, 15% test)\n",
        "training_data, testing_data = train_test_split(data, test_size=0.15, random_state=42, stratify=data['croplabel'])\n",
        "\n",
        "# Split the train_data into train and validation sets (80% train, 20% validation)\n",
        "training_data, validation_data = train_test_split(training_data, test_size=0.2, random_state=42, stratify=training_data['croplabel'])\n",
        "\n",
        "# Creating ImageDataGenerator instances for each set\n",
        "training_data_generator = ImageDataGenerator(rescale=1./255)\n",
        "validation_data_generator = ImageDataGenerator(rescale=1./255)\n",
        "testing_data_generator = ImageDataGenerator(rescale=1./255)\n",
        "\n",
        "# Defining parameters\n",
        "target_size = (224, 224) \n",
        "batch_size = 32\n",
        "\n",
        "# Creating generators for each set using the corresponding DataFrame\n",
        "training_generator = training_data_generator.flow_from_dataframe(\n",
        "    dataframe=training_data,\n",
        "    x_col='path',\n",
        "    y_col='croplabel',\n",
        "    target_size=target_size,\n",
        "    batch_size=batch_size,\n",
        "    class_mode='categorical'\n",
        ")\n",
        "\n",
        "validation_generator = validation_data_generator.flow_from_dataframe(\n",
        "    dataframe=validation_data,\n",
        "    x_col='path',\n",
        "    y_col='croplabel',\n",
        "    target_size=target_size,\n",
        "    batch_size=batch_size,\n",
        "    class_mode='categorical'\n",
        ")\n",
        "\n",
        "testing_generator = testing_data_generator.flow_from_dataframe(\n",
        "    dataframe=testing_data,\n",
        "    x_col='path',\n",
        "    y_col='croplabel',\n",
        "    target_size=target_size,\n",
        "    batch_size=batch_size,\n",
        "    class_mode='categorical',\n",
        "    shuffle=False\n",
        ")"
      ]
    },
    {
      "cell_type": "code",
      "execution_count": null,
      "metadata": {
        "colab": {
          "base_uri": "https://localhost:8080/"
        },
        "id": "HSRjHhfd_4mH",
        "outputId": "5c54ae90-dadb-42e5-c4a1-17b4672c135d"
      },
      "outputs": [
        {
          "name": "stdout",
          "output_type": "stream",
          "text": [
            "Downloading data from https://storage.googleapis.com/tensorflow/keras-applications/vgg16/vgg16_weights_tf_dim_ordering_tf_kernels_notop.h5\n",
            "58889256/58889256 [==============================] - 4s 0us/step\n"
          ]
        }
      ],
      "source": [
        "import tensorflow as tf\n",
        "from tensorflow.keras import layers\n",
        "from tensorflow.keras.applications import VGG16\n",
        "\n",
        "# Loading the VGG16 pre-trained base model\n",
        "base_model = VGG16(include_top=False, input_shape=(224, 224, 3))"
      ]
    },
    {
      "cell_type": "code",
      "execution_count": null,
      "metadata": {
        "colab": {
          "base_uri": "https://localhost:8080/"
        },
        "id": "So4vSXjS_6eK",
        "outputId": "f0c101fc-b0da-40f2-bc54-f44259929fb5"
      },
      "outputs": [
        {
          "name": "stdout",
          "output_type": "stream",
          "text": [
            "Epoch 1/5\n",
            "22/22 [==============================] - 15s 483ms/step - loss: 1.5883 - accuracy: 0.4757 - val_loss: 0.8266 - val_accuracy: 0.7176\n",
            "Epoch 2/5\n",
            "22/22 [==============================] - 10s 476ms/step - loss: 0.5505 - accuracy: 0.8395 - val_loss: 0.4328 - val_accuracy: 0.8000\n",
            "Epoch 3/5\n",
            "22/22 [==============================] - 11s 484ms/step - loss: 0.2500 - accuracy: 0.9323 - val_loss: 0.2446 - val_accuracy: 0.9059\n",
            "Epoch 4/5\n",
            "22/22 [==============================] - 10s 474ms/step - loss: 0.1093 - accuracy: 0.9823 - val_loss: 0.1751 - val_accuracy: 0.9412\n",
            "Epoch 5/5\n",
            "22/22 [==============================] - 10s 467ms/step - loss: 0.0549 - accuracy: 0.9956 - val_loss: 0.1030 - val_accuracy: 0.9824\n",
            "5/5 [==============================] - 1s 133ms/step - loss: 0.0798 - accuracy: 0.9933\n",
            "Test loss: 0.07975013554096222, Test accuracy: 0.9933333396911621\n"
          ]
        }
      ],
      "source": [
        "# Fine-tuning the model\n",
        "model = tf.keras.Sequential([\n",
        "    base_model,\n",
        "    layers.GlobalAveragePooling2D(),\n",
        "    layers.Dense(5, activation='softmax') # 5 classes\n",
        "])\n",
        "\n",
        "# Unfreezing the base model\n",
        "base_model.trainable = True\n",
        "\n",
        "# Using a smaller learning rate for fine-tuning\n",
        "optimizer = tf.keras.optimizers.Adam(learning_rate=1e-5)\n",
        "\n",
        "# Compiling the model\n",
        "model.compile(optimizer=optimizer, loss='categorical_crossentropy', metrics=['accuracy'])\n",
        "\n",
        "# Training the model\n",
        "model.fit(training_generator, epochs=5, validation_data=validation_generator)\n",
        "\n",
        "# Evaluating the model\n",
        "test_loss, test_accuracy = model.evaluate(testing_generator)\n",
        "\n",
        "# Printing test loss and test accuracy\n",
        "print(f'Test loss: {test_loss}, Test accuracy: {test_accuracy}')"
      ]
    },
    {
      "cell_type": "code",
      "execution_count": null,
      "metadata": {
        "id": "KAEdDo9h_9Bs"
      },
      "outputs": [],
      "source": [
        "# Saving the model\n",
        "model.save('agriculture_crop_images_model.h5')"
      ]
    },
    {
      "attachments": {},
      "cell_type": "markdown",
      "metadata": {
        "id": "4lzzY_Om_9yH"
      },
      "source": [
        "### b. Saving the accuracy result of the training process in MongoDB"
      ]
    },
    {
      "attachments": {},
      "cell_type": "markdown",
      "metadata": {
        "id": "HezQWQd_ACIy"
      },
      "source": [
        "#### Downloading and installing a MongoDB Instance"
      ]
    },
    {
      "cell_type": "code",
      "execution_count": null,
      "metadata": {
        "colab": {
          "base_uri": "https://localhost:8080/"
        },
        "id": "9tdHO3rkABOt",
        "outputId": "6d630752-d16d-4366-8ad6-a89d75729e3f"
      },
      "outputs": [
        {
          "name": "stdout",
          "output_type": "stream",
          "text": [
            "Looking in indexes: https://pypi.org/simple, https://us-python.pkg.dev/colab-wheels/public/simple/\n",
            "Collecting pymongo\n",
            "  Downloading pymongo-4.3.3-cp310-cp310-manylinux_2_17_x86_64.manylinux2014_x86_64.whl (492 kB)\n",
            "\u001b[2K     \u001b[90m━━━━━━━━━━━━━━━━━━━━━━━━━━━━━━━━━━━━━━\u001b[0m \u001b[32m492.9/492.9 kB\u001b[0m \u001b[31m32.7 MB/s\u001b[0m eta \u001b[36m0:00:00\u001b[0m\n",
            "\u001b[?25hCollecting dnspython<3.0.0,>=1.16.0 (from pymongo)\n",
            "  Downloading dnspython-2.3.0-py3-none-any.whl (283 kB)\n",
            "\u001b[2K     \u001b[90m━━━━━━━━━━━━━━━━━━━━━━━━━━━━━━━━━━━━━━\u001b[0m \u001b[32m283.7/283.7 kB\u001b[0m \u001b[31m24.6 MB/s\u001b[0m eta \u001b[36m0:00:00\u001b[0m\n",
            "\u001b[?25hInstalling collected packages: dnspython, pymongo\n",
            "Successfully installed dnspython-2.3.0 pymongo-4.3.3\n"
          ]
        }
      ],
      "source": [
        "!pip install pymongo"
      ]
    },
    {
      "cell_type": "code",
      "execution_count": null,
      "metadata": {
        "colab": {
          "base_uri": "https://localhost:8080/"
        },
        "id": "jnGD5cfvAFVe",
        "outputId": "3ece5a89-14e0-43ad-8286-0b5654265d78"
      },
      "outputs": [
        {
          "name": "stdout",
          "output_type": "stream",
          "text": [
            "Reading package lists...\n",
            "Building dependency tree...\n",
            "Reading state information...\n",
            "The following additional packages will be installed:\n",
            "  libpcap0.8 libyaml-cpp0.6 mongo-tools mongodb-clients mongodb-server\n",
            "  mongodb-server-core\n",
            "The following NEW packages will be installed:\n",
            "  libpcap0.8 libyaml-cpp0.6 mongo-tools mongodb mongodb-clients mongodb-server\n",
            "  mongodb-server-core\n",
            "0 upgraded, 7 newly installed, 0 to remove and 24 not upgraded.\n",
            "Need to get 55.8 MB of archives.\n",
            "After this operation, 226 MB of additional disk space will be used.\n",
            "Get:1 http://archive.ubuntu.com/ubuntu focal/main amd64 libpcap0.8 amd64 1.9.1-3 [128 kB]\n",
            "Get:2 http://archive.ubuntu.com/ubuntu focal/main amd64 libyaml-cpp0.6 amd64 0.6.2-4ubuntu1 [124 kB]\n",
            "Get:3 http://archive.ubuntu.com/ubuntu focal/universe amd64 mongo-tools amd64 3.6.3-0ubuntu1 [12.3 MB]\n",
            "Get:4 http://archive.ubuntu.com/ubuntu focal-updates/universe amd64 mongodb-clients amd64 1:3.6.9+really3.6.8+90~g8e540c0b6d-0ubuntu5.3 [21.6 MB]\n",
            "Get:5 http://archive.ubuntu.com/ubuntu focal-updates/universe amd64 mongodb-server-core amd64 1:3.6.9+really3.6.8+90~g8e540c0b6d-0ubuntu5.3 [21.6 MB]\n",
            "Get:6 http://archive.ubuntu.com/ubuntu focal-updates/universe amd64 mongodb-server all 1:3.6.9+really3.6.8+90~g8e540c0b6d-0ubuntu5.3 [12.5 kB]\n",
            "Get:7 http://archive.ubuntu.com/ubuntu focal-updates/universe amd64 mongodb amd64 1:3.6.9+really3.6.8+90~g8e540c0b6d-0ubuntu5.3 [9,640 B]\n",
            "Fetched 55.8 MB in 6s (8,674 kB/s)\n",
            "Selecting previously unselected package libpcap0.8:amd64.\r\n",
            "(Reading database ... \r(Reading database ... 5%\r(Reading database ... 10%\r(Reading database ... 15%\r(Reading database ... 20%\r(Reading database ... 25%\r(Reading database ... 30%\r(Reading database ... 35%\r(Reading database ... 40%\r(Reading database ... 45%\r(Reading database ... 50%\r(Reading database ... 55%\r(Reading database ... 60%\r(Reading database ... 65%\r(Reading database ... 70%\r(Reading database ... 75%\r(Reading database ... 80%\r(Reading database ... 85%\r(Reading database ... 90%\r(Reading database ... 95%\r(Reading database ... 100%\r(Reading database ... 122519 files and directories currently installed.)\r\n",
            "Preparing to unpack .../0-libpcap0.8_1.9.1-3_amd64.deb ...\r\n",
            "Unpacking libpcap0.8:amd64 (1.9.1-3) ...\r\n",
            "Selecting previously unselected package libyaml-cpp0.6:amd64.\r\n",
            "Preparing to unpack .../1-libyaml-cpp0.6_0.6.2-4ubuntu1_amd64.deb ...\r\n",
            "Unpacking libyaml-cpp0.6:amd64 (0.6.2-4ubuntu1) ...\r\n",
            "Selecting previously unselected package mongo-tools.\r\n",
            "Preparing to unpack .../2-mongo-tools_3.6.3-0ubuntu1_amd64.deb ...\r\n",
            "Unpacking mongo-tools (3.6.3-0ubuntu1) ...\r\n",
            "Selecting previously unselected package mongodb-clients.\r\n",
            "Preparing to unpack .../3-mongodb-clients_1%3a3.6.9+really3.6.8+90~g8e540c0b6d-0ubuntu5.3_amd64.deb ...\r\n",
            "Unpacking mongodb-clients (1:3.6.9+really3.6.8+90~g8e540c0b6d-0ubuntu5.3) ...\r\n",
            "Selecting previously unselected package mongodb-server-core.\r\n",
            "Preparing to unpack .../4-mongodb-server-core_1%3a3.6.9+really3.6.8+90~g8e540c0b6d-0ubuntu5.3_amd64.deb ...\r\n",
            "Unpacking mongodb-server-core (1:3.6.9+really3.6.8+90~g8e540c0b6d-0ubuntu5.3) ...\r\n",
            "Selecting previously unselected package mongodb-server.\r\n",
            "Preparing to unpack .../5-mongodb-server_1%3a3.6.9+really3.6.8+90~g8e540c0b6d-0ubuntu5.3_all.deb ...\r\n",
            "Unpacking mongodb-server (1:3.6.9+really3.6.8+90~g8e540c0b6d-0ubuntu5.3) ...\r\n",
            "Selecting previously unselected package mongodb.\r\n",
            "Preparing to unpack .../6-mongodb_1%3a3.6.9+really3.6.8+90~g8e540c0b6d-0ubuntu5.3_amd64.deb ...\r\n",
            "Unpacking mongodb (1:3.6.9+really3.6.8+90~g8e540c0b6d-0ubuntu5.3) ...\r\n",
            "Setting up libpcap0.8:amd64 (1.9.1-3) ...\r\n",
            "Setting up libyaml-cpp0.6:amd64 (0.6.2-4ubuntu1) ...\r\n",
            "Setting up mongodb-clients (1:3.6.9+really3.6.8+90~g8e540c0b6d-0ubuntu5.3) ...\r\n",
            "Setting up mongo-tools (3.6.3-0ubuntu1) ...\r\n",
            "Setting up mongodb-server-core (1:3.6.9+really3.6.8+90~g8e540c0b6d-0ubuntu5.3) ...\r\n",
            "Setting up mongodb-server (1:3.6.9+really3.6.8+90~g8e540c0b6d-0ubuntu5.3) ...\r\n",
            "invoke-rc.d: could not determine current runlevel\r\n",
            "invoke-rc.d: policy-rc.d denied execution of start.\r\n",
            "Created symlink /etc/systemd/system/multi-user.target.wants/mongodb.service → /lib/systemd/system/mongodb.service.\r\n",
            "Setting up mongodb (1:3.6.9+really3.6.8+90~g8e540c0b6d-0ubuntu5.3) ...\r\n",
            "Processing triggers for man-db (2.9.1-1) ...\r\n",
            "Processing triggers for libc-bin (2.31-0ubuntu9.9) ...\r\n",
            "Processing triggers for systemd (245.4-4ubuntu3.21) ...\r\n",
            " * Starting database mongodb\n",
            "   ...done.\n"
          ]
        },
        {
          "name": "stderr",
          "output_type": "stream",
          "text": [
            "\n",
            "WARNING: apt does not have a stable CLI interface. Use with caution in scripts.\n",
            "\n",
            "debconf: unable to initialize frontend: Dialog\n",
            "debconf: (No usable dialog-like program is installed, so the dialog based frontend cannot be used. at /usr/share/perl5/Debconf/FrontEnd/Dialog.pm line 76, <> line 7.)\n",
            "debconf: falling back to frontend: Readline\n",
            "debconf: unable to initialize frontend: Readline\n",
            "debconf: (This frontend requires a controlling tty.)\n",
            "debconf: falling back to frontend: Teletype\n",
            "dpkg-preconfigure: unable to re-open stdin: \n"
          ]
        }
      ],
      "source": [
        "%%bash\n",
        "sudo apt install -y mongodb\n",
        "service mongodb start"
      ]
    },
    {
      "attachments": {},
      "cell_type": "markdown",
      "metadata": {
        "id": "sM_Jx6sEAKe6"
      },
      "source": [
        "#### Saving the accuracy result of the training process in the MongoDB Instance"
      ]
    },
    {
      "cell_type": "code",
      "execution_count": null,
      "metadata": {
        "colab": {
          "base_uri": "https://localhost:8080/"
        },
        "id": "Id-k9XTvAMGB",
        "outputId": "05d43592-19a5-4acd-c7c0-f2b16b154b45"
      },
      "outputs": [
        {
          "data": {
            "text/plain": [
              "<pymongo.results.InsertOneResult at 0x7fab40be2860>"
            ]
          },
          "execution_count": 13,
          "metadata": {},
          "output_type": "execute_result"
        }
      ],
      "source": [
        "from pymongo import MongoClient\n",
        "\n",
        "# Establish a connection to MongoDB\n",
        "client = MongoClient()\n",
        "\n",
        "# Create a database named \"agriculture_classification\"\n",
        "db = client[\"agriculture_classification\"]\n",
        "\n",
        "# Create a collection named \"training_results\"\n",
        "collection = db[\"training_results\"]\n",
        "\n",
        "# Prepare the data to be saved\n",
        "data = {\n",
        "    \"model\": \"VGG16\",\n",
        "    \"training_accuracy\": test_accuracy,\n",
        "}\n",
        "\n",
        "# Insert the data into the collection\n",
        "collection.insert_one(data)"
      ]
    },
    {
      "attachments": {},
      "cell_type": "markdown",
      "metadata": {
        "id": "E4Ukrj-XAOhg"
      },
      "source": [
        "### c. Creating a Python-based API using Flask to receive an image from the user as input"
      ]
    },
    {
      "cell_type": "code",
      "execution_count": null,
      "metadata": {
        "colab": {
          "base_uri": "https://localhost:8080/"
        },
        "id": "kx3-A6cBAQyz",
        "outputId": "10e85f5d-248c-45d5-a4ec-97d063c44e72"
      },
      "outputs": [
        {
          "name": "stdout",
          "output_type": "stream",
          "text": [
            "Looking in indexes: https://pypi.org/simple, https://us-python.pkg.dev/colab-wheels/public/simple/\n",
            "Requirement already satisfied: Flask in /usr/local/lib/python3.10/dist-packages (2.2.4)\n",
            "Requirement already satisfied: Werkzeug>=2.2.2 in /usr/local/lib/python3.10/dist-packages (from Flask) (2.3.0)\n",
            "Requirement already satisfied: Jinja2>=3.0 in /usr/local/lib/python3.10/dist-packages (from Flask) (3.1.2)\n",
            "Requirement already satisfied: itsdangerous>=2.0 in /usr/local/lib/python3.10/dist-packages (from Flask) (2.1.2)\n",
            "Requirement already satisfied: click>=8.0 in /usr/local/lib/python3.10/dist-packages (from Flask) (8.1.3)\n",
            "Requirement already satisfied: MarkupSafe>=2.0 in /usr/local/lib/python3.10/dist-packages (from Jinja2>=3.0->Flask) (2.1.2)\n"
          ]
        }
      ],
      "source": [
        "!pip install Flask"
      ]
    },
    {
      "cell_type": "code",
      "execution_count": null,
      "metadata": {
        "id": "WAH452S7ARY2"
      },
      "outputs": [],
      "source": [
        "import io\n",
        "import json\n",
        "import numpy as np\n",
        "from PIL import Image\n",
        "from flask import Flask, request, jsonify\n",
        "from tensorflow.keras.models import load_model\n",
        "from tensorflow.keras.preprocessing.image import img_to_array\n",
        "\n",
        "app = Flask(__name__)\n",
        "model = load_model(\"agriculture_crop_images_model.h5\")\n",
        "class_labels = [\"maize\", \"wheat\", \"jute\", \"rice\", \"sugarcane\"]\n",
        "\n",
        "def format_image(image, target_size=(224, 224)):\n",
        "    if image.mode != \"RGB\":\n",
        "        image = image.convert(\"RGB\")\n",
        "    image = image.resize(target_size)\n",
        "    image_array = img_to_array(image)\n",
        "    image_array = np.expand_dims(image_array, axis=0)\n",
        "    return image_array\n",
        "\n",
        "@app.route(\"/classify\", methods=[\"POST\"])\n",
        "def classify_image():\n",
        "    if \"image\" not in request.files:\n",
        "        return jsonify({\"error\": \"No image provided\"}), 400\n",
        "\n",
        "    image = request.files[\"image\"].read()\n",
        "    image = Image.open(io.BytesIO(image))\n",
        "    image_array = format_image(image)\n",
        "\n",
        "    predictions = model.predict(image_array)\n",
        "    top_prediction = np.argmax(predictions)\n",
        "\n",
        "    response = {\n",
        "        \"prediction\": class_labels[top_prediction],\n",
        "        \"confidence\": float(predictions[0][top_prediction])\n",
        "    }\n",
        "\n",
        "    return jsonify(response)"
      ]
    },
    {
      "cell_type": "code",
      "execution_count": null,
      "metadata": {
        "colab": {
          "base_uri": "https://localhost:8080/"
        },
        "id": "WXdlxeQoAUOV",
        "outputId": "3e25c120-ac0c-415a-936a-9932afedf5b2"
      },
      "outputs": [
        {
          "name": "stdout",
          "output_type": "stream",
          "text": [
            " * Serving Flask app '__main__'\n",
            " * Debug mode: on\n"
          ]
        },
        {
          "name": "stderr",
          "output_type": "stream",
          "text": [
            "INFO:werkzeug:\u001b[31m\u001b[1mWARNING: This is a development server. Do not use it in a production deployment. Use a production WSGI server instead.\u001b[0m\n",
            " * Running on http://127.0.0.1:5000\n",
            "INFO:werkzeug:\u001b[33mPress CTRL+C to quit\u001b[0m\n",
            "INFO:werkzeug: * Restarting with stat\n"
          ]
        }
      ],
      "source": [
        "app.run(debug=True)"
      ]
    },
    {
      "attachments": {},
      "cell_type": "markdown",
      "metadata": {
        "id": "Cl5mZ6VdAV1N"
      },
      "source": [
        "### d. Elaborating test cases"
      ]
    },
    {
      "attachments": {},
      "cell_type": "markdown",
      "metadata": {
        "id": "rMNsRRYnAZxR"
      },
      "source": [
        "##### Testing the classification model"
      ]
    },
    {
      "cell_type": "code",
      "execution_count": null,
      "metadata": {
        "id": "DAySB8V4AX13"
      },
      "outputs": [],
      "source": [
        "from tensorflow.keras.models import load_model\n",
        "\n",
        "# Loading the saved model\n",
        "loaded_model = load_model('agriculture_crop_images_model.h5')"
      ]
    },
    {
      "cell_type": "code",
      "execution_count": null,
      "metadata": {
        "colab": {
          "base_uri": "https://localhost:8080/"
        },
        "id": "pZbMENs1Adz4",
        "outputId": "33a8c1d5-50ae-4d82-fbc2-199d3cc1278b"
      },
      "outputs": [
        {
          "name": "stdout",
          "output_type": "stream",
          "text": [
            "1/1 [==============================] - 0s 190ms/step\n",
            "1/1 [==============================] - 0s 31ms/step\n",
            "1/1 [==============================] - 0s 28ms/step\n",
            "1/1 [==============================] - 0s 29ms/step\n",
            "1/1 [==============================] - 0s 28ms/step\n",
            "1/1 [==============================] - 0s 30ms/step\n",
            "1/1 [==============================] - 0s 30ms/step\n",
            "1/1 [==============================] - 0s 45ms/step\n",
            "1/1 [==============================] - 0s 19ms/step\n",
            "1/1 [==============================] - 0s 19ms/step\n",
            "1/1 [==============================] - 0s 19ms/step\n",
            "1/1 [==============================] - 0s 22ms/step\n",
            "1/1 [==============================] - 0s 19ms/step\n",
            "1/1 [==============================] - 0s 31ms/step\n",
            "1/1 [==============================] - 0s 19ms/step\n",
            "1/1 [==============================] - 0s 19ms/step\n",
            "1/1 [==============================] - 0s 19ms/step\n",
            "1/1 [==============================] - 0s 19ms/step\n",
            "1/1 [==============================] - 0s 29ms/step\n",
            "1/1 [==============================] - 0s 20ms/step\n",
            "1/1 [==============================] - 0s 18ms/step\n",
            "1/1 [==============================] - 0s 20ms/step\n",
            "1/1 [==============================] - 0s 21ms/step\n",
            "1/1 [==============================] - 0s 19ms/step\n",
            "1/1 [==============================] - 0s 20ms/step\n",
            "1/1 [==============================] - 0s 20ms/step\n",
            "1/1 [==============================] - 0s 19ms/step\n",
            "1/1 [==============================] - 0s 21ms/step\n",
            "1/1 [==============================] - 0s 22ms/step\n",
            "1/1 [==============================] - 0s 18ms/step\n",
            "1/1 [==============================] - 0s 18ms/step\n",
            "1/1 [==============================] - 0s 19ms/step\n",
            "1/1 [==============================] - 0s 19ms/step\n",
            "1/1 [==============================] - 0s 22ms/step\n",
            "1/1 [==============================] - 0s 21ms/step\n",
            "1/1 [==============================] - 0s 19ms/step\n",
            "1/1 [==============================] - 0s 20ms/step\n",
            "1/1 [==============================] - 0s 22ms/step\n",
            "1/1 [==============================] - 0s 20ms/step\n",
            "1/1 [==============================] - 0s 22ms/step\n",
            "1/1 [==============================] - 0s 18ms/step\n",
            "1/1 [==============================] - 0s 22ms/step\n",
            "1/1 [==============================] - 0s 22ms/step\n",
            "1/1 [==============================] - 0s 22ms/step\n",
            "1/1 [==============================] - 0s 19ms/step\n",
            "1/1 [==============================] - 0s 19ms/step\n",
            "1/1 [==============================] - 0s 19ms/step\n",
            "1/1 [==============================] - 0s 26ms/step\n",
            "1/1 [==============================] - 0s 26ms/step\n",
            "1/1 [==============================] - 0s 20ms/step\n",
            "1/1 [==============================] - 0s 22ms/step\n",
            "Test_accuracy : 0.6274509803921569\n"
          ]
        }
      ],
      "source": [
        "import cv2\n",
        "import os\n",
        "\n",
        "def model_prediction(path):\n",
        "    image = cv2.imread(path)\n",
        "    image = cv2.resize(image,(224,224))\n",
        "    image = image/255\n",
        "    image = image.reshape(1,224,224,3)\n",
        "    p = loaded_model.predict(image).argmax()\n",
        "    return list({'jute': 0, 'maize': 1, 'rice': 2, 'sugarcane': 3, 'wheat': 4})[p]\n",
        "\n",
        "path_test = './test_crop_image/'\n",
        "file_names = os.listdir(path_test)\n",
        "count = 0\n",
        "\n",
        "for file in file_names:\n",
        "    crops = model_prediction(path_test + file)\n",
        "\n",
        "    # wheatcropfield04.jpg => wheat\n",
        "    if file[:3] == crops[:3]:\n",
        "        count += 1\n",
        "\n",
        "print('Test_accuracy :', count/len(file_names))"
      ]
    },
    {
      "attachments": {},
      "cell_type": "markdown",
      "metadata": {
        "id": "PEKtf6F5Agff"
      },
      "source": [
        "##### Testing the MongoDB database"
      ]
    },
    {
      "cell_type": "code",
      "execution_count": null,
      "metadata": {
        "id": "UalMevdSAfvF"
      },
      "outputs": [],
      "source": [
        "import unittest\n",
        "\n",
        "class TestMongoDB(unittest.TestCase):\n",
        "\n",
        "    def setUp(self):\n",
        "        connection_string = \"mongodb://localhost:27017/\"\n",
        "        client = MongoClient(connection_string)\n",
        "        self.db = client[\"agriculture_classification\"]\n",
        "        self.collection = self.db[\"training_results\"]\n",
        "\n",
        "    def test_insert_training_result(self):\n",
        "        data = {\n",
        "            \"model\": \"TestModel\",\n",
        "            \"test_accuracy\": 0.789,\n",
        "        }\n",
        "        result = self.collection.insert_one(data)\n",
        "        self.assertIsNotNone(result.inserted_id)\n",
        "        inserted_document = self.collection.find_one({\"_id\": result.inserted_id})\n",
        "        self.assertIsNotNone(inserted_document)\n",
        "        self.collection.delete_one({\"_id\": result.inserted_id})"
      ]
    },
    {
      "attachments": {},
      "cell_type": "markdown",
      "metadata": {
        "id": "1P08WZvzAlDO"
      },
      "source": [
        "##### Testing the API"
      ]
    },
    {
      "cell_type": "code",
      "execution_count": null,
      "metadata": {
        "id": "RRAdlNJyAkFb"
      },
      "outputs": [],
      "source": [
        "import os\n",
        "import requests\n",
        "from pymongo import MongoClient\n",
        "\n",
        "class TestAPI(unittest.TestCase):\n",
        "\n",
        "    def setUp(self):\n",
        "        self.url = \"http://127.0.0.1:5000/classify\"\n",
        "        self.test_image_path = \"/content/test_crop_image/jute-field.jpg\"\n",
        "\n",
        "    def test_classify_image(self):\n",
        "        with open(self.test_image_path, \"rb\") as image_file:\n",
        "            response = requests.post(self.url, files={\"image\": image_file})\n",
        "        self.assertEqual(response.status_code, 200)\n",
        "        json_response = response.json()\n",
        "        self.assertIn(\"prediction\", json_response)\n",
        "        self.assertIn(\"confidence\", json_response)"
      ]
    },
    {
      "cell_type": "code",
      "execution_count": null,
      "metadata": {
        "colab": {
          "base_uri": "https://localhost:8080/"
        },
        "id": "SBCtrb0uApLN",
        "outputId": "85aa160f-26b5-4323-81b5-fad76f94e79a"
      },
      "outputs": [
        {
          "name": "stderr",
          "output_type": "stream",
          "text": [
            "test_classify_image (__main__.TestAPI) ... ERROR\n",
            "test_insert_training_result (__main__.TestMongoDB) ... ok\n",
            "\n",
            "======================================================================\n",
            "ERROR: test_classify_image (__main__.TestAPI)\n",
            "----------------------------------------------------------------------\n",
            "Traceback (most recent call last):\n",
            "  File \"/usr/local/lib/python3.10/dist-packages/urllib3/connection.py\", line 174, in _new_conn\n",
            "    conn = connection.create_connection(\n",
            "  File \"/usr/local/lib/python3.10/dist-packages/urllib3/util/connection.py\", line 95, in create_connection\n",
            "    raise err\n",
            "  File \"/usr/local/lib/python3.10/dist-packages/urllib3/util/connection.py\", line 85, in create_connection\n",
            "    sock.connect(sa)\n",
            "ConnectionRefusedError: [Errno 111] Connection refused\n",
            "\n",
            "During handling of the above exception, another exception occurred:\n",
            "\n",
            "Traceback (most recent call last):\n",
            "  File \"/usr/local/lib/python3.10/dist-packages/urllib3/connectionpool.py\", line 703, in urlopen\n",
            "    httplib_response = self._make_request(\n",
            "  File \"/usr/local/lib/python3.10/dist-packages/urllib3/connectionpool.py\", line 398, in _make_request\n",
            "    conn.request(method, url, **httplib_request_kw)\n",
            "  File \"/usr/local/lib/python3.10/dist-packages/urllib3/connection.py\", line 244, in request\n",
            "    super(HTTPConnection, self).request(method, url, body=body, headers=headers)\n",
            "  File \"/usr/lib/python3.10/http/client.py\", line 1283, in request\n",
            "    self._send_request(method, url, body, headers, encode_chunked)\n",
            "  File \"/usr/lib/python3.10/http/client.py\", line 1329, in _send_request\n",
            "    self.endheaders(body, encode_chunked=encode_chunked)\n",
            "  File \"/usr/lib/python3.10/http/client.py\", line 1278, in endheaders\n",
            "    self._send_output(message_body, encode_chunked=encode_chunked)\n",
            "  File \"/usr/lib/python3.10/http/client.py\", line 1038, in _send_output\n",
            "    self.send(msg)\n",
            "  File \"/usr/lib/python3.10/http/client.py\", line 976, in send\n",
            "    self.connect()\n",
            "  File \"/usr/local/lib/python3.10/dist-packages/urllib3/connection.py\", line 205, in connect\n",
            "    conn = self._new_conn()\n",
            "  File \"/usr/local/lib/python3.10/dist-packages/urllib3/connection.py\", line 186, in _new_conn\n",
            "    raise NewConnectionError(\n",
            "urllib3.exceptions.NewConnectionError: <urllib3.connection.HTTPConnection object at 0x7faaa07e0f70>: Failed to establish a new connection: [Errno 111] Connection refused\n",
            "\n",
            "During handling of the above exception, another exception occurred:\n",
            "\n",
            "Traceback (most recent call last):\n",
            "  File \"/usr/local/lib/python3.10/dist-packages/requests/adapters.py\", line 440, in send\n",
            "    resp = conn.urlopen(\n",
            "  File \"/usr/local/lib/python3.10/dist-packages/urllib3/connectionpool.py\", line 787, in urlopen\n",
            "    retries = retries.increment(\n",
            "  File \"/usr/local/lib/python3.10/dist-packages/urllib3/util/retry.py\", line 592, in increment\n",
            "    raise MaxRetryError(_pool, url, error or ResponseError(cause))\n",
            "urllib3.exceptions.MaxRetryError: HTTPConnectionPool(host='127.0.0.1', port=5000): Max retries exceeded with url: /classify (Caused by NewConnectionError('<urllib3.connection.HTTPConnection object at 0x7faaa07e0f70>: Failed to establish a new connection: [Errno 111] Connection refused'))\n",
            "\n",
            "During handling of the above exception, another exception occurred:\n",
            "\n",
            "Traceback (most recent call last):\n",
            "  File \"<ipython-input-20-fa0acd4c6f51>\", line 13, in test_classify_image\n",
            "    response = requests.post(self.url, files={\"image\": image_file})\n",
            "  File \"/usr/local/lib/python3.10/dist-packages/requests/api.py\", line 117, in post\n",
            "    return request('post', url, data=data, json=json, **kwargs)\n",
            "  File \"/usr/local/lib/python3.10/dist-packages/requests/api.py\", line 61, in request\n",
            "    return session.request(method=method, url=url, **kwargs)\n",
            "  File \"/usr/local/lib/python3.10/dist-packages/requests/sessions.py\", line 529, in request\n",
            "    resp = self.send(prep, **send_kwargs)\n",
            "  File \"/usr/local/lib/python3.10/dist-packages/requests/sessions.py\", line 645, in send\n",
            "    r = adapter.send(request, **kwargs)\n",
            "  File \"/usr/local/lib/python3.10/dist-packages/requests/adapters.py\", line 519, in send\n",
            "    raise ConnectionError(e, request=request)\n",
            "requests.exceptions.ConnectionError: HTTPConnectionPool(host='127.0.0.1', port=5000): Max retries exceeded with url: /classify (Caused by NewConnectionError('<urllib3.connection.HTTPConnection object at 0x7faaa07e0f70>: Failed to establish a new connection: [Errno 111] Connection refused'))\n",
            "\n",
            "----------------------------------------------------------------------\n",
            "Ran 2 tests in 0.039s\n",
            "\n",
            "FAILED (errors=1)\n"
          ]
        },
        {
          "data": {
            "text/plain": [
              "<unittest.main.TestProgram at 0x7faaa07e1030>"
            ]
          },
          "execution_count": 21,
          "metadata": {},
          "output_type": "execute_result"
        }
      ],
      "source": [
        "# There would be an error with the TestAPI class since the Flask server isn't running\n",
        "unittest.main(argv=[''], verbosity=2, exit=False)"
      ]
    },
    {
      "attachments": {},
      "cell_type": "markdown",
      "metadata": {
        "id": "VZx5snPeY_3J"
      },
      "source": [
        "##Task #2\n",
        "Develop a Python class or function within Google Colab that seeks a geospatial tiff image as an input argument from the user. The class/function will take the geospatial raster data and apply Meta's [Segment Anything Model or SAM](https://github.com/facebookresearch/segment-anything) to segment agricultural fields from the image and saves the output as geospatial shapefile or geojson files. The skeleton of the class is given for you along with some hints."
      ]
    },
    {
      "attachments": {},
      "cell_type": "markdown",
      "metadata": {
        "id": "DqfgYr42AsOz"
      },
      "source": [
        "#### Install Segment Anything Model (SAM), SAM's weights and other dependencies"
      ]
    },
    {
      "cell_type": "code",
      "execution_count": 4,
      "metadata": {
        "colab": {
          "base_uri": "https://localhost:8080/"
        },
        "id": "C7tT-izcAuBI",
        "outputId": "ace3acc6-f2e8-4632-8656-196c0ba44fd8"
      },
      "outputs": [
        {
          "name": "stdout",
          "output_type": "stream",
          "text": [
            "Looking in indexes: https://pypi.org/simple, https://us-python.pkg.dev/colab-wheels/public/simple/\n",
            "Collecting git+https://github.com/facebookresearch/segment-anything.git\n",
            "  Cloning https://github.com/facebookresearch/segment-anything.git to /tmp/pip-req-build-zmy8m67x\n",
            "  Running command git clone --filter=blob:none --quiet https://github.com/facebookresearch/segment-anything.git /tmp/pip-req-build-zmy8m67x\n",
            "  Resolved https://github.com/facebookresearch/segment-anything.git to commit 6fdee8f2727f4506cfbbe553e23b895e27956588\n",
            "  Preparing metadata (setup.py) ... \u001b[?25l\u001b[?25hdone\n",
            "Building wheels for collected packages: segment-anything\n",
            "  Building wheel for segment-anything (setup.py) ... \u001b[?25l\u001b[?25hdone\n",
            "  Created wheel for segment-anything: filename=segment_anything-1.0-py3-none-any.whl size=36589 sha256=c914410d9a2a8b9086e83fe0c5c1023d959bf565be268028d7f9a8910223422c\n",
            "  Stored in directory: /tmp/pip-ephem-wheel-cache-qzl44zij/wheels/10/cf/59/9ccb2f0a1bcc81d4fbd0e501680b5d088d690c6cfbc02dc99d\n",
            "Successfully built segment-anything\n",
            "Installing collected packages: segment-anything\n",
            "Successfully installed segment-anything-1.0\n"
          ]
        }
      ],
      "source": [
        "# Installing Segment Anything\n",
        "!pip install git+https://github.com/facebookresearch/segment-anything.git"
      ]
    },
    {
      "cell_type": "code",
      "execution_count": 5,
      "metadata": {
        "id": "TFKu3b_YAvcR"
      },
      "outputs": [],
      "source": [
        "# Downloading SAM weights\n",
        "!wget -q https://dl.fbaipublicfiles.com/segment_anything/sam_vit_h_4b8939.pth"
      ]
    },
    {
      "cell_type": "code",
      "execution_count": 2,
      "metadata": {
        "colab": {
          "base_uri": "https://localhost:8080/"
        },
        "id": "fTOviExeAxiH",
        "outputId": "916e9619-40c3-4e6d-e439-0afe4ea47f66"
      },
      "outputs": [
        {
          "name": "stdout",
          "output_type": "stream",
          "text": [
            "Looking in indexes: https://pypi.org/simple, https://us-python.pkg.dev/colab-wheels/public/simple/\n",
            "Collecting supervision\n",
            "  Downloading supervision-0.7.0-py3-none-any.whl (38 kB)\n",
            "Collecting rasterio\n",
            "  Downloading rasterio-1.3.6-cp310-cp310-manylinux_2_17_x86_64.manylinux2014_x86_64.whl (20.0 MB)\n",
            "\u001b[2K     \u001b[90m━━━━━━━━━━━━━━━━━━━━━━━━━━━━━━━━━━━━━━━━\u001b[0m \u001b[32m20.0/20.0 MB\u001b[0m \u001b[31m41.3 MB/s\u001b[0m eta \u001b[36m0:00:00\u001b[0m\n",
            "\u001b[?25hCollecting geopandas\n",
            "  Downloading geopandas-0.13.0-py3-none-any.whl (1.1 MB)\n",
            "\u001b[2K     \u001b[90m━━━━━━━━━━━━━━━━━━━━━━━━━━━━━━━━━━━━━━━━\u001b[0m \u001b[32m1.1/1.1 MB\u001b[0m \u001b[31m32.9 MB/s\u001b[0m eta \u001b[36m0:00:00\u001b[0m\n",
            "\u001b[?25hRequirement already satisfied: shapely in /usr/local/lib/python3.10/dist-packages (2.0.1)\n",
            "Requirement already satisfied: numpy>=1.20.0 in /usr/local/lib/python3.10/dist-packages (from supervision) (1.22.4)\n",
            "Requirement already satisfied: opencv-python in /usr/local/lib/python3.10/dist-packages (from supervision) (4.7.0.72)\n",
            "Requirement already satisfied: matplotlib in /usr/local/lib/python3.10/dist-packages (from supervision) (3.7.1)\n",
            "Collecting affine (from rasterio)\n",
            "  Downloading affine-2.4.0-py3-none-any.whl (15 kB)\n",
            "Requirement already satisfied: attrs in /usr/local/lib/python3.10/dist-packages (from rasterio) (23.1.0)\n",
            "Requirement already satisfied: certifi in /usr/local/lib/python3.10/dist-packages (from rasterio) (2022.12.7)\n",
            "Requirement already satisfied: click>=4.0 in /usr/local/lib/python3.10/dist-packages (from rasterio) (8.1.3)\n",
            "Collecting cligj>=0.5 (from rasterio)\n",
            "  Downloading cligj-0.7.2-py3-none-any.whl (7.1 kB)\n",
            "Collecting snuggs>=1.4.1 (from rasterio)\n",
            "  Downloading snuggs-1.4.7-py3-none-any.whl (5.4 kB)\n",
            "Collecting click-plugins (from rasterio)\n",
            "  Downloading click_plugins-1.1.1-py2.py3-none-any.whl (7.5 kB)\n",
            "Requirement already satisfied: setuptools in /usr/local/lib/python3.10/dist-packages (from rasterio) (67.7.2)\n",
            "Collecting fiona>=1.8.19 (from geopandas)\n",
            "  Downloading Fiona-1.9.3-cp310-cp310-manylinux_2_17_x86_64.manylinux2014_x86_64.whl (16.0 MB)\n",
            "\u001b[2K     \u001b[90m━━━━━━━━━━━━━━━━━━━━━━━━━━━━━━━━━━━━━━━━\u001b[0m \u001b[32m16.0/16.0 MB\u001b[0m \u001b[31m27.0 MB/s\u001b[0m eta \u001b[36m0:00:00\u001b[0m\n",
            "\u001b[?25hRequirement already satisfied: packaging in /usr/local/lib/python3.10/dist-packages (from geopandas) (23.1)\n",
            "Requirement already satisfied: pandas>=1.1.0 in /usr/local/lib/python3.10/dist-packages (from geopandas) (1.5.3)\n",
            "Collecting pyproj>=3.0.1 (from geopandas)\n",
            "  Downloading pyproj-3.5.0-cp310-cp310-manylinux_2_17_x86_64.manylinux2014_x86_64.whl (7.7 MB)\n",
            "\u001b[2K     \u001b[90m━━━━━━━━━━━━━━━━━━━━━━━━━━━━━━━━━━━━━━━━\u001b[0m \u001b[32m7.7/7.7 MB\u001b[0m \u001b[31m24.6 MB/s\u001b[0m eta \u001b[36m0:00:00\u001b[0m\n",
            "\u001b[?25hCollecting munch>=2.3.2 (from fiona>=1.8.19->geopandas)\n",
            "  Downloading munch-2.5.0-py2.py3-none-any.whl (10 kB)\n",
            "Requirement already satisfied: python-dateutil>=2.8.1 in /usr/local/lib/python3.10/dist-packages (from pandas>=1.1.0->geopandas) (2.8.2)\n",
            "Requirement already satisfied: pytz>=2020.1 in /usr/local/lib/python3.10/dist-packages (from pandas>=1.1.0->geopandas) (2022.7.1)\n",
            "Requirement already satisfied: pyparsing>=2.1.6 in /usr/local/lib/python3.10/dist-packages (from snuggs>=1.4.1->rasterio) (3.0.9)\n",
            "Requirement already satisfied: contourpy>=1.0.1 in /usr/local/lib/python3.10/dist-packages (from matplotlib->supervision) (1.0.7)\n",
            "Requirement already satisfied: cycler>=0.10 in /usr/local/lib/python3.10/dist-packages (from matplotlib->supervision) (0.11.0)\n",
            "Requirement already satisfied: fonttools>=4.22.0 in /usr/local/lib/python3.10/dist-packages (from matplotlib->supervision) (4.39.3)\n",
            "Requirement already satisfied: kiwisolver>=1.0.1 in /usr/local/lib/python3.10/dist-packages (from matplotlib->supervision) (1.4.4)\n",
            "Requirement already satisfied: pillow>=6.2.0 in /usr/local/lib/python3.10/dist-packages (from matplotlib->supervision) (8.4.0)\n",
            "Requirement already satisfied: six in /usr/local/lib/python3.10/dist-packages (from munch>=2.3.2->fiona>=1.8.19->geopandas) (1.16.0)\n",
            "Installing collected packages: snuggs, pyproj, munch, cligj, click-plugins, affine, rasterio, fiona, supervision, geopandas\n",
            "Successfully installed affine-2.4.0 click-plugins-1.1.1 cligj-0.7.2 fiona-1.9.3 geopandas-0.13.0 munch-2.5.0 pyproj-3.5.0 rasterio-1.3.6 snuggs-1.4.7 supervision-0.7.0\n"
          ]
        }
      ],
      "source": [
        "!pip install supervision rasterio geopandas shapely"
      ]
    },
    {
      "attachments": {},
      "cell_type": "markdown",
      "metadata": {
        "id": "2M6of305AzM4"
      },
      "source": [
        "#### SegmentBuildings class"
      ]
    },
    {
      "cell_type": "code",
      "execution_count": 9,
      "metadata": {
        "id": "yw36FpIgY968"
      },
      "outputs": [],
      "source": [
        "import os\n",
        "import torch\n",
        "import rasterio\n",
        "import supervision as sv\n",
        "import numpy as np\n",
        "import geopandas as gpd\n",
        "import rasterio.features\n",
        "from shapely.geometry import shape\n",
        "from segment_anything import SamAutomaticMaskGenerator, sam_model_registry\n",
        "\n",
        "class SegmentBuildings:\n",
        "    def __init__(self, input_image_path, output_data_path):\n",
        "        self.input_image_path = input_image_path\n",
        "        self.output_data_path = output_data_path\n",
        "\n",
        "    def main(self):\n",
        "        # Use rasterio to read geospatial image\n",
        "        with rasterio.open(self.input_image_path) as src:\n",
        "            num_bands = src.count\n",
        "            transform = src.transform\n",
        "            crs = src.crs\n",
        "\n",
        "            # Checking if the raster extracted has 3 bands (red, green, blue)\n",
        "            # Some .tiff images (used in testing) didn't have 3 bands\n",
        "            # They weren't able to be converted to rgb for SAM\n",
        "            if num_bands >= 3:\n",
        "              img = src.read()\n",
        "\n",
        "        # Convert the geospatial image to a RGB image that SAM can understand\n",
        "        image_rgb = np.stack((img[0], img[1], img[2]), axis=2)\n",
        "\n",
        "        # Apply SAM, using colab's GPU to reduce time\n",
        "        # The SAM can be applied with either text prompt or other input args\n",
        "        sam = sam_model_registry[\"vit_h\"](checkpoint=\"/content/sam_vit_h_4b8939.pth\").to(device=torch.device('cuda:0' if torch.cuda.is_available() else 'cpu'))\n",
        "        mask_generator = SamAutomaticMaskGenerator(sam)\n",
        "        masks = mask_generator.generate(image_rgb)\n",
        "        mask_annotator = sv.MaskAnnotator()\n",
        "\n",
        "        detections = sv.Detections.from_sam(sam_result=masks)\n",
        "        segmented_image = mask_annotator.annotate(scene=image_rgb.copy(), detections=detections)\n",
        "\n",
        "        # For visualization, uncomment the line below\n",
        "        # sv.plot_images_grid(images=[image_rgb, segmented_image], grid_size=(1, 2), titles=['source image', 'segmented image'])\n",
        "\n",
        "        # The output of SAM will lose the geospatial location information\n",
        "        # Find out a way to retain back the location information from the given\n",
        "        # raster. Hint: use the `transform`\n",
        "        with rasterio.open(\n",
        "            \"segmented_image.tif\",\n",
        "            \"w\",\n",
        "            driver=\"GTiff\",\n",
        "            height=segmented_image.shape[1],\n",
        "            width=segmented_image.shape[2],\n",
        "            count=segmented_image.shape[0],\n",
        "            dtype=segmented_image.dtype,\n",
        "            crs=crs,\n",
        "            transform=transform,\n",
        "        ) as dst:\n",
        "            dst.write(segmented_image)\n",
        "\n",
        "        # Convert the segmented raster to a geojson or shapefile format based on the user-defined path\n",
        "        with rasterio.open(\"/content/segmented_image.tif\") as src:\n",
        "            segmented_data = src.read(1)\n",
        "\n",
        "            # Extracting features (polygons) from the segmented raster\n",
        "            features = rasterio.features.shapes(segmented_data, transform=src.transform, connectivity=4)\n",
        "\n",
        "            # Converting features to Shapely geometries and create a GeoDataFrame\n",
        "            polygons = []\n",
        "            for geom, value in features:\n",
        "                if value != 0:\n",
        "                    polygon = shape(geom)\n",
        "                    if polygon.area >= 0:\n",
        "                        polygons.append(polygon)\n",
        "            gdf = gpd.GeoDataFrame({\"geometry\": polygons, \"id\": range(len(polygons))}, crs=src.crs)\n",
        "\n",
        "            # Saving the GeoDataFrame based on the file extension in the output_data_path\n",
        "            file_extension = self.output_data_path.split('.')[-1].lower()\n",
        "            if file_extension == \"geojson\":\n",
        "                gdf.to_file(self.output_data_path, driver=\"GeoJSON\")\n",
        "            elif file_extension == \"shp\":\n",
        "                gdf.to_file(self.output_data_path, driver=\"ESRI Shapefile\")\n",
        "            else:\n",
        "                raise ValueError(\"Invalid file extension, must be '.geojson' or '.shp'\")"
      ]
    },
    {
      "cell_type": "code",
      "execution_count": null,
      "metadata": {
        "id": "NRdaTrNQBEWS"
      },
      "outputs": [],
      "source": [
        "input_image_path = \"./image.tiff\"\n",
        "output_data_path = \"./segmented_image.geojson\"\n",
        "segment_buildings = SegmentBuildings(input_image_path, output_data_path)\n",
        "segment_buildings.main()"
      ]
    }
  ],
  "metadata": {
    "accelerator": "GPU",
    "colab": {
      "gpuType": "T4",
      "provenance": []
    },
    "gpuClass": "standard",
    "kernelspec": {
      "display_name": "Python 3",
      "name": "python3"
    },
    "language_info": {
      "name": "python"
    }
  },
  "nbformat": 4,
  "nbformat_minor": 0
}
